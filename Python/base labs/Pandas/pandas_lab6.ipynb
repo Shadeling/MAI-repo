{
 "cells": [
  {
   "cell_type": "code",
   "execution_count": 1,
   "metadata": {},
   "outputs": [],
   "source": [
    "import sys\n",
    "import numpy as np\n",
    "import pandas as pd"
   ]
  },
  {
   "cell_type": "code",
   "execution_count": 2,
   "metadata": {},
   "outputs": [
    {
     "data": {
      "text/plain": [
       "13.601470508735444"
      ]
     },
     "execution_count": 2,
     "metadata": {},
     "output_type": "execute_result"
    }
   ],
   "source": [
    "#Найти евклидово расстоняие между двумя объектами Series\n",
    "s1 = pd.Series(np.random.randint(1, 10, size=[10]))\n",
    "s2 = pd.Series(np.random.randint(1, 10, size=[10]))\n",
    "\n",
    "sum((s1-s2)**2)**0.5"
   ]
  },
  {
   "cell_type": "code",
   "execution_count": 9,
   "metadata": {},
   "outputs": [
    {
     "data": {
      "text/plain": [
       "array([3, 6, 9], dtype=int64)"
      ]
     },
     "execution_count": 9,
     "metadata": {},
     "output_type": "execute_result"
    }
   ],
   "source": [
    "# Найти индексы локальных максимумов в объекте Series\n",
    "s = pd.Series([1, 5, 7, 11, 8, 4, 12, 5, 8, 16, 8])\n",
    "dd = np.diff(np.sign(np.diff(s)))\n",
    "\n",
    "np.where(dd == -2)[0] + 1"
   ]
  },
  {
   "cell_type": "code",
   "execution_count": 10,
   "metadata": {},
   "outputs": [
    {
     "data": {
      "text/plain": [
       "'asfsdgflsaa;kgfdkafseklgmnafwreraa'"
      ]
     },
     "execution_count": 10,
     "metadata": {},
     "output_type": "execute_result"
    }
   ],
   "source": [
    "# Заменить пробелы наименее часто встречающимся символов\n",
    "str_test = 'asfsdg lsaa;kg dka seklgmna wreraa'\n",
    "\n",
    "s = pd.Series(list(str_test))\n",
    "\n",
    "freq = s.value_counts()\n",
    "\n",
    "least_freq = freq.dropna().index[-1]\n",
    "\n",
    "''.join(s.replace(' ', least_freq))"
   ]
  },
  {
   "cell_type": "code",
   "execution_count": 11,
   "metadata": {},
   "outputs": [
    {
     "data": {
      "text/plain": [
       "2020-01-04    3\n",
       "2020-01-11    2\n",
       "2020-01-18    2\n",
       "2020-01-25    2\n",
       "2020-02-01    1\n",
       "2020-02-08    8\n",
       "2020-02-15    6\n",
       "2020-02-22    5\n",
       "2020-02-29    7\n",
       "2020-03-07    5\n",
       "Freq: W-SAT, dtype: int32"
      ]
     },
     "execution_count": 11,
     "metadata": {},
     "output_type": "execute_result"
    }
   ],
   "source": [
    "# Создать объект Series, который содержит в индексах даты выходных дней субботы,\n",
    "# а в значениях случайные числа от 1 до 10\n",
    "\n",
    "pd.Series(np.random.randint(1,10,[10]), pd.date_range('2020-01-01', periods=10, freq='W-SAT'))"
   ]
  },
  {
   "cell_type": "code",
   "execution_count": null,
   "metadata": {},
   "outputs": [],
   "source": [
    "# Заполнить пропущенные даты, значением выше (заполненной даты)\n",
    "???"
   ]
  },
  {
   "cell_type": "code",
   "execution_count": 15,
   "metadata": {},
   "outputs": [
    {
     "data": {
      "text/plain": [
       "0.3191785794572251"
      ]
     },
     "execution_count": 15,
     "metadata": {},
     "output_type": "execute_result"
    }
   ],
   "source": [
    "# Вычислить автокорреляцию объекта Series\n",
    "\n",
    "s = pd.Series(np.random.randint(1,10,10))\n",
    "s.autocorr() #корреляцция "
   ]
  },
  {
   "cell_type": "code",
   "execution_count": null,
   "metadata": {},
   "outputs": [],
   "source": []
  }
 ],
 "metadata": {
  "kernelspec": {
   "display_name": "Python 3",
   "language": "python",
   "name": "python3"
  },
  "language_info": {
   "codemirror_mode": {
    "name": "ipython",
    "version": 3
   },
   "file_extension": ".py",
   "mimetype": "text/x-python",
   "name": "python",
   "nbconvert_exporter": "python",
   "pygments_lexer": "ipython3",
   "version": "3.7.6"
  }
 },
 "nbformat": 4,
 "nbformat_minor": 4
}
