{
 "cells": [
  {
   "cell_type": "code",
   "execution_count": 2,
   "metadata": {},
   "outputs": [],
   "source": [
    "import sys\n",
    "import numpy as np\n",
    "import pandas as pd"
   ]
  },
  {
   "cell_type": "code",
   "execution_count": 14,
   "metadata": {},
   "outputs": [
    {
     "data": {
      "text/plain": [
       "count     8.000000\n",
       "mean     16.625000\n",
       "std      13.426387\n",
       "min       1.000000\n",
       "25%       7.000000\n",
       "50%      12.000000\n",
       "75%      32.000000\n",
       "max      32.000000\n",
       "dtype: float64"
      ]
     },
     "execution_count": 14,
     "metadata": {},
     "output_type": "execute_result"
    }
   ],
   "source": [
    "#Получить от объекта Series показатели описательной статистики\n",
    "ser = pd.Series([1,4,8,16,32,32,32,8])\n",
    "ser.describe()"
   ]
  },
  {
   "cell_type": "code",
   "execution_count": 15,
   "metadata": {},
   "outputs": [
    {
     "name": "stdout",
     "output_type": "stream",
     "text": [
      "32    3\n",
      "8     2\n",
      "4     1\n",
      "16    1\n",
      "1     1\n",
      "dtype: int64\n"
     ]
    }
   ],
   "source": [
    "#Узнать частоту уникальных элементов объекта Series\n",
    "ans = ser.value_counts()\n",
    "print(ans)"
   ]
  },
  {
   "cell_type": "code",
   "execution_count": 16,
   "metadata": {},
   "outputs": [
    {
     "name": "stdout",
     "output_type": "stream",
     "text": [
      "0    Other\n",
      "1    Other\n",
      "2        8\n",
      "3    Other\n",
      "4       32\n",
      "5       32\n",
      "6       32\n",
      "7        8\n",
      "dtype: object\n"
     ]
    }
   ],
   "source": [
    "#Заменить все элементы объекта Series на \"Other\", кроме двух наиболее часто встречающихся\n",
    "ser[~ser.isin(ser.value_counts().index[:2])] = 'Other'\n",
    "print(ser)"
   ]
  },
  {
   "cell_type": "code",
   "execution_count": 27,
   "metadata": {},
   "outputs": [
    {
     "data": {
      "text/plain": [
       "2018-01-01    17\n",
       "2018-01-02    35\n",
       "2018-01-03    24\n",
       "2018-01-04    56\n",
       "2018-01-05    74\n",
       "Freq: D, dtype: int32"
      ]
     },
     "execution_count": 27,
     "metadata": {},
     "output_type": "execute_result"
    }
   ],
   "source": [
    "#Создать объект Series в индексах дата каждый день 2019 года,\n",
    "#в значениях случайное значение\n",
    "\n",
    "dt = pd.date_range(start='2018-01-01', end='2018-12-31', freq='D') \n",
    "s = pd.Series(np.random.randint(100, size=len(dt)), index=dt)\n",
    "s.head()"
   ]
  },
  {
   "cell_type": "code",
   "execution_count": 28,
   "metadata": {},
   "outputs": [
    {
     "data": {
      "text/plain": [
       "2611"
      ]
     },
     "execution_count": 28,
     "metadata": {},
     "output_type": "execute_result"
    }
   ],
   "source": [
    "#Найти сумму всех вторников\n",
    "s[s.index.weekday == 2].sum()"
   ]
  },
  {
   "cell_type": "code",
   "execution_count": 29,
   "metadata": {},
   "outputs": [
    {
     "data": {
      "text/plain": [
       "2018-01-31    45.032258\n",
       "2018-02-28    50.928571\n",
       "2018-03-31    43.322581\n",
       "2018-04-30    40.700000\n",
       "2018-05-31    52.225806\n",
       "2018-06-30    47.533333\n",
       "2018-07-31    61.129032\n",
       "2018-08-31    45.290323\n",
       "2018-09-30    51.466667\n",
       "2018-10-31    41.967742\n",
       "2018-11-30    53.300000\n",
       "2018-12-31    48.258065\n",
       "Freq: M, dtype: float64"
      ]
     },
     "execution_count": 29,
     "metadata": {},
     "output_type": "execute_result"
    }
   ],
   "source": [
    "#Для каждого месяца найти среднее значение\n",
    "s.resample('M').mean()"
   ]
  },
  {
   "cell_type": "code",
   "execution_count": 30,
   "metadata": {},
   "outputs": [
    {
     "data": {
      "text/html": [
       "<div>\n",
       "<style scoped>\n",
       "    .dataframe tbody tr th:only-of-type {\n",
       "        vertical-align: middle;\n",
       "    }\n",
       "\n",
       "    .dataframe tbody tr th {\n",
       "        vertical-align: top;\n",
       "    }\n",
       "\n",
       "    .dataframe thead th {\n",
       "        text-align: right;\n",
       "    }\n",
       "</style>\n",
       "<table border=\"1\" class=\"dataframe\">\n",
       "  <thead>\n",
       "    <tr style=\"text-align: right;\">\n",
       "      <th></th>\n",
       "      <th>0</th>\n",
       "      <th>1</th>\n",
       "      <th>2</th>\n",
       "      <th>3</th>\n",
       "      <th>4</th>\n",
       "      <th>5</th>\n",
       "      <th>6</th>\n",
       "      <th>7</th>\n",
       "      <th>8</th>\n",
       "      <th>9</th>\n",
       "    </tr>\n",
       "  </thead>\n",
       "  <tbody>\n",
       "    <tr>\n",
       "      <th>0</th>\n",
       "      <td>8</td>\n",
       "      <td>6</td>\n",
       "      <td>8</td>\n",
       "      <td>6</td>\n",
       "      <td>5</td>\n",
       "      <td>7</td>\n",
       "      <td>9</td>\n",
       "      <td>4</td>\n",
       "      <td>1</td>\n",
       "      <td>5</td>\n",
       "    </tr>\n",
       "    <tr>\n",
       "      <th>1</th>\n",
       "      <td>8</td>\n",
       "      <td>4</td>\n",
       "      <td>9</td>\n",
       "      <td>3</td>\n",
       "      <td>7</td>\n",
       "      <td>6</td>\n",
       "      <td>3</td>\n",
       "      <td>5</td>\n",
       "      <td>9</td>\n",
       "      <td>8</td>\n",
       "    </tr>\n",
       "    <tr>\n",
       "      <th>2</th>\n",
       "      <td>9</td>\n",
       "      <td>6</td>\n",
       "      <td>4</td>\n",
       "      <td>5</td>\n",
       "      <td>9</td>\n",
       "      <td>4</td>\n",
       "      <td>3</td>\n",
       "      <td>8</td>\n",
       "      <td>7</td>\n",
       "      <td>7</td>\n",
       "    </tr>\n",
       "    <tr>\n",
       "      <th>3</th>\n",
       "      <td>3</td>\n",
       "      <td>4</td>\n",
       "      <td>9</td>\n",
       "      <td>3</td>\n",
       "      <td>1</td>\n",
       "      <td>7</td>\n",
       "      <td>2</td>\n",
       "      <td>4</td>\n",
       "      <td>3</td>\n",
       "      <td>5</td>\n",
       "    </tr>\n",
       "    <tr>\n",
       "      <th>4</th>\n",
       "      <td>2</td>\n",
       "      <td>4</td>\n",
       "      <td>2</td>\n",
       "      <td>8</td>\n",
       "      <td>6</td>\n",
       "      <td>5</td>\n",
       "      <td>6</td>\n",
       "      <td>3</td>\n",
       "      <td>2</td>\n",
       "      <td>7</td>\n",
       "    </tr>\n",
       "    <tr>\n",
       "      <th>5</th>\n",
       "      <td>4</td>\n",
       "      <td>1</td>\n",
       "      <td>2</td>\n",
       "      <td>5</td>\n",
       "      <td>4</td>\n",
       "      <td>3</td>\n",
       "      <td>2</td>\n",
       "      <td>8</td>\n",
       "      <td>8</td>\n",
       "      <td>4</td>\n",
       "    </tr>\n",
       "    <tr>\n",
       "      <th>6</th>\n",
       "      <td>3</td>\n",
       "      <td>2</td>\n",
       "      <td>8</td>\n",
       "      <td>6</td>\n",
       "      <td>5</td>\n",
       "      <td>6</td>\n",
       "      <td>7</td>\n",
       "      <td>9</td>\n",
       "      <td>7</td>\n",
       "      <td>9</td>\n",
       "    </tr>\n",
       "    <tr>\n",
       "      <th>7</th>\n",
       "      <td>5</td>\n",
       "      <td>5</td>\n",
       "      <td>2</td>\n",
       "      <td>2</td>\n",
       "      <td>8</td>\n",
       "      <td>7</td>\n",
       "      <td>6</td>\n",
       "      <td>4</td>\n",
       "      <td>2</td>\n",
       "      <td>4</td>\n",
       "    </tr>\n",
       "    <tr>\n",
       "      <th>8</th>\n",
       "      <td>7</td>\n",
       "      <td>1</td>\n",
       "      <td>9</td>\n",
       "      <td>5</td>\n",
       "      <td>7</td>\n",
       "      <td>7</td>\n",
       "      <td>1</td>\n",
       "      <td>6</td>\n",
       "      <td>5</td>\n",
       "      <td>5</td>\n",
       "    </tr>\n",
       "    <tr>\n",
       "      <th>9</th>\n",
       "      <td>8</td>\n",
       "      <td>8</td>\n",
       "      <td>8</td>\n",
       "      <td>2</td>\n",
       "      <td>4</td>\n",
       "      <td>8</td>\n",
       "      <td>2</td>\n",
       "      <td>2</td>\n",
       "      <td>5</td>\n",
       "      <td>2</td>\n",
       "    </tr>\n",
       "  </tbody>\n",
       "</table>\n",
       "</div>"
      ],
      "text/plain": [
       "   0  1  2  3  4  5  6  7  8  9\n",
       "0  8  6  8  6  5  7  9  4  1  5\n",
       "1  8  4  9  3  7  6  3  5  9  8\n",
       "2  9  6  4  5  9  4  3  8  7  7\n",
       "3  3  4  9  3  1  7  2  4  3  5\n",
       "4  2  4  2  8  6  5  6  3  2  7\n",
       "5  4  1  2  5  4  3  2  8  8  4\n",
       "6  3  2  8  6  5  6  7  9  7  9\n",
       "7  5  5  2  2  8  7  6  4  2  4\n",
       "8  7  1  9  5  7  7  1  6  5  5\n",
       "9  8  8  8  2  4  8  2  2  5  2"
      ]
     },
     "execution_count": 30,
     "metadata": {},
     "output_type": "execute_result"
    }
   ],
   "source": [
    "#Преобразовать объект Series в DataFrame заданной формы (shape)\n",
    "m = 10\n",
    "n = 10\n",
    "s = pd.Series(np.random.randint(1, 10, size=[n*m]))\n",
    "\n",
    "df = pd.DataFrame(s.values.reshape((m,n)))\n",
    "df"
   ]
  },
  {
   "cell_type": "code",
   "execution_count": 31,
   "metadata": {},
   "outputs": [
    {
     "data": {
      "text/plain": [
       "Int64Index([ 1,  3,  6, 12, 13, 15, 16, 18, 20, 21, 24, 26, 30, 32, 33, 38, 44,\n",
       "            46, 47, 55, 60, 63, 65, 67, 69, 76, 82, 87],\n",
       "           dtype='int64')"
      ]
     },
     "execution_count": 31,
     "metadata": {},
     "output_type": "execute_result"
    }
   ],
   "source": [
    "#Найти индексы объекта Series кратные 3\n",
    "s[s % 3 == 0].index"
   ]
  },
  {
   "cell_type": "code",
   "execution_count": 32,
   "metadata": {},
   "outputs": [
    {
     "name": "stdout",
     "output_type": "stream",
     "text": [
      "0     8\n",
      "5     7\n",
      "10    8\n",
      "15    6\n",
      "dtype: int32\n"
     ]
    }
   ],
   "source": [
    "#Получить данные по индексам объекта Series\n",
    "ind = [0,5,10,15]\n",
    "print(s[ind])"
   ]
  },
  {
   "cell_type": "code",
   "execution_count": 33,
   "metadata": {},
   "outputs": [
    {
     "name": "stdout",
     "output_type": "stream",
     "text": [
      "0    0\n",
      "1    1\n",
      "2    2\n",
      "3    3\n",
      "4    4\n",
      "0    a\n",
      "1    b\n",
      "2    c\n",
      "3    d\n",
      "4    e\n",
      "dtype: object\n",
      "   0  1\n",
      "0  0  a\n",
      "1  1  b\n",
      "2  2  c\n",
      "3  3  d\n",
      "4  4  e\n"
     ]
    }
   ],
   "source": [
    "#Объединить два объекта Series вертикально и горизонтально\n",
    "s1 = pd.Series(range(5))\n",
    "s2 = pd.Series(list('abcde'))\n",
    "\n",
    "print(s1.append(s2))\n",
    "\n",
    "print(pd.concat([s1, s2], axis=1))"
   ]
  },
  {
   "cell_type": "code",
   "execution_count": 38,
   "metadata": {},
   "outputs": [
    {
     "data": {
      "text/plain": [
       "array([1, 3, 7, 9])"
      ]
     },
     "execution_count": 38,
     "metadata": {},
     "output_type": "execute_result"
    }
   ],
   "source": [
    "#Получить индексы объекта Series A, данные которых содержатся в объетке Series B\n",
    "s1 = pd.Series(range(10))\n",
    "s2 = pd.Series([1, 3, 7, 9])\n",
    "\n",
    "np.asarray([np.where(i == s1)[0].tolist()[0] for i in s2])"
   ]
  },
  {
   "cell_type": "code",
   "execution_count": 40,
   "metadata": {},
   "outputs": [
    {
     "data": {
      "text/plain": [
       "0    6\n",
       "1    2\n",
       "2    5\n",
       "3    1\n",
       "4    3\n",
       "5    7\n",
       "6    8\n",
       "7    4\n",
       "8    9\n",
       "dtype: int32"
      ]
     },
     "execution_count": 40,
     "metadata": {},
     "output_type": "execute_result"
    }
   ],
   "source": [
    "#Получить объект Series B, который содержит элементы без повторений объекта A\n",
    "s = pd.Series(np.random.randint(low=1, high=10, size=[100]))\n",
    "pd.Series(s.unique())"
   ]
  },
  {
   "cell_type": "code",
   "execution_count": 47,
   "metadata": {},
   "outputs": [
    {
     "data": {
      "text/plain": [
       "0    S\n",
       "1    F\n",
       "2    H\n",
       "3    G\n",
       "4    A\n",
       "dtype: object"
      ]
     },
     "execution_count": 47,
     "metadata": {},
     "output_type": "execute_result"
    }
   ],
   "source": [
    "#Преобразовать каждый символ объекта Series в верхний регистр\n",
    "s = pd.Series(['s','f','h','g','a'])\n",
    "\n",
    "s.map(lambda x: x.title())"
   ]
  },
  {
   "cell_type": "code",
   "execution_count": 50,
   "metadata": {},
   "outputs": [
    {
     "data": {
      "text/plain": [
       "'sfhga'"
      ]
     },
     "execution_count": 50,
     "metadata": {},
     "output_type": "execute_result"
    }
   ],
   "source": [
    "#преобразовать данных Series в строку\n",
    "''.join(s)\n"
   ]
  },
  {
   "cell_type": "code",
   "execution_count": 52,
   "metadata": {},
   "outputs": [
    {
     "name": "stdout",
     "output_type": "stream",
     "text": [
      "[3 3 5 4 4]\n"
     ]
    }
   ],
   "source": [
    "#Рассчитать количество символов в объекте Series\n",
    "s = pd.Series(['one', 'two', 'three', 'four', 'five'])\n",
    "\n",
    "s = pd.Series(str(i) for i in s)\n",
    "\n",
    "ans = np.asarray(s.map(lambda x: len(x)))\n",
    "\n",
    "print(ans)"
   ]
  },
  {
   "cell_type": "code",
   "execution_count": 53,
   "metadata": {},
   "outputs": [
    {
     "data": {
      "text/plain": [
       "0    NaN\n",
       "1    4.0\n",
       "2    2.0\n",
       "3    1.0\n",
       "4    4.0\n",
       "5    3.0\n",
       "6    2.0\n",
       "dtype: float64"
      ]
     },
     "execution_count": 53,
     "metadata": {},
     "output_type": "execute_result"
    }
   ],
   "source": [
    "#Найти разность между объектом Series и смещением объекта Series на n\n",
    "n = 1\n",
    "s = pd.Series([1, 5, 7, 8, 12, 15, 17])\n",
    "\n",
    "s.diff(periods=n)"
   ]
  },
  {
   "cell_type": "code",
   "execution_count": 54,
   "metadata": {},
   "outputs": [
    {
     "data": {
      "text/plain": [
       "0   2020-01-01\n",
       "1   2017-01-01\n",
       "2   2019-01-01\n",
       "dtype: datetime64[ns]"
      ]
     },
     "execution_count": 54,
     "metadata": {},
     "output_type": "execute_result"
    }
   ],
   "source": [
    "#Преобразовать разыне форматы строк объекта Series в дату\n",
    "s = pd.Series(['2020/01/01', '2017-01-01', '1 Jan 2019'])\n",
    "\n",
    "pd.to_datetime(s)"
   ]
  },
  {
   "cell_type": "code",
   "execution_count": 55,
   "metadata": {},
   "outputs": [
    {
     "data": {
      "text/plain": [
       "0   2019-02-14\n",
       "1   2019-01-22\n",
       "2   2019-03-01\n",
       "dtype: datetime64[ns]"
      ]
     },
     "execution_count": 55,
     "metadata": {},
     "output_type": "execute_result"
    }
   ],
   "source": [
    "#все данные должны иметь одинаковый формат (часто бывает выгрузка из SQL)\n",
    "#преобразовать в дату\n",
    "s = pd.Series(['14.02.2019', '22.01.2019', '01.03.2019'])\n",
    "\n",
    "pd.to_datetime(s, format='%d.%m.%Y')"
   ]
  },
  {
   "cell_type": "code",
   "execution_count": 56,
   "metadata": {},
   "outputs": [
    {
     "name": "stdout",
     "output_type": "stream",
     "text": [
      "0    2018\n",
      "1    2011\n",
      "2    2012\n",
      "3    2013\n",
      "4    2018\n",
      "dtype: int64\n",
      "0     1\n",
      "1     2\n",
      "2     3\n",
      "3     4\n",
      "4    12\n",
      "dtype: int64\n",
      "0     1\n",
      "1     2\n",
      "2     3\n",
      "3     4\n",
      "4    31\n",
      "dtype: int64\n",
      "0     1\n",
      "1     5\n",
      "2     9\n",
      "3    14\n",
      "4     1\n",
      "dtype: int64\n",
      "0      1\n",
      "1     33\n",
      "2     63\n",
      "3     94\n",
      "4    365\n",
      "dtype: int64\n"
     ]
    }
   ],
   "source": [
    "from dateutil.parser import parse\n",
    "s = pd.Series(['01 Jan 2018', '02-02-2011', '20120303', '2013/04/04', '2018-12-31'])\n",
    "\n",
    "# парсим в дату и время\n",
    "s_ts = s.map(lambda x: parse(x, yearfirst=True))\n",
    "\n",
    "\n",
    "# получаем года\n",
    "print(s_ts.dt.year)\n",
    "\n",
    "# получаем месяца\n",
    "print(s_ts.dt.month)\n",
    "\n",
    "# получаем дни\n",
    "print(s_ts.dt.day)\n",
    "\n",
    "# получаем номер недели\n",
    "print(s_ts.dt.weekofyear)\n",
    "\n",
    "# получаем номер дня в году\n",
    "print(s_ts.dt.dayofyear)"
   ]
  },
  {
   "cell_type": "code",
   "execution_count": 57,
   "metadata": {},
   "outputs": [
    {
     "name": "stdout",
     "output_type": "stream",
     "text": [
      "0      Яблоко\n",
      "1      Orange\n",
      "4    Апельсин\n",
      "6    Reliance\n",
      "dtype: object\n"
     ]
    }
   ],
   "source": [
    "#Отобрать элементы объекта Series, кторые содержат не менее двух гласных\n",
    "from collections import Counter\n",
    "s = pd.Series(['Яблоко', 'Orange', 'Plan', 'Python', 'Апельсин', 'Стол', 'Reliance'])\n",
    "\n",
    "mask = s.map(lambda x: sum([Counter(x.lower()).get(i, 0) for i in list('aeiouаоиеёэыуюя')]) >= 2)\n",
    "\n",
    "ans = s[mask]\n",
    "print(ans)"
   ]
  },
  {
   "cell_type": "code",
   "execution_count": 16,
   "metadata": {},
   "outputs": [
    {
     "name": "stdout",
     "output_type": "stream",
     "text": [
      "1    te%st@mail.ru\n",
      "dtype: object\n"
     ]
    }
   ],
   "source": [
    "#Отобрать e-маилы из объекта Series (можно юзать регулярки)\n",
    "import re\n",
    "\n",
    "\n",
    "emails = pd.Series(['test+-@test%.com', 'te%st@mail.ru', 'test.2ru', 'test@pp'])\n",
    "\n",
    "pattern = '[\\w._%+-]+@\\w+\\.[A-Za-z]{2,4}'\n",
    "\n",
    "mask = emails.map(lambda x: bool(re.match(pattern, x)))\n",
    "\n",
    "ans = emails[mask]\n",
    "\n",
    "print(ans)"
   ]
  },
  {
   "cell_type": "code",
   "execution_count": null,
   "metadata": {},
   "outputs": [],
   "source": []
  }
 ],
 "metadata": {
  "kernelspec": {
   "display_name": "Python 3",
   "language": "python",
   "name": "python3"
  },
  "language_info": {
   "codemirror_mode": {
    "name": "ipython",
    "version": 3
   },
   "file_extension": ".py",
   "mimetype": "text/x-python",
   "name": "python",
   "nbconvert_exporter": "python",
   "pygments_lexer": "ipython3",
   "version": "3.7.6"
  }
 },
 "nbformat": 4,
 "nbformat_minor": 4
}
