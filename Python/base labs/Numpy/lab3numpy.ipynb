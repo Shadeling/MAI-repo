{
 "cells": [
  {
   "cell_type": "markdown",
   "metadata": {},
   "source": [
    "### Лабораторная №3 по NumPy\n",
    "\n",
    "Выполнил:   Миронов С.В.\n",
    "\n",
    "Группа:\t    М8О-103М-20\n"
   ]
  },
  {
   "cell_type": "code",
   "execution_count": 1,
   "metadata": {},
   "outputs": [],
   "source": [
    "import numpy as np\n",
    "import matplotlib.pyplot as plt"
   ]
  },
  {
   "cell_type": "code",
   "execution_count": 2,
   "metadata": {},
   "outputs": [
    {
     "data": {
      "text/plain": [
       "array([1., 0., 0., 0., 2., 0., 0., 0., 3., 0., 0., 0., 4., 0., 0., 0., 5.,\n",
       "       0., 0., 0.])"
      ]
     },
     "execution_count": 2,
     "metadata": {},
     "output_type": "execute_result"
    }
   ],
   "source": [
    "#Дан вектор [1, 2, 3, 4, 5], построить новый вектор с тремя нулями между каждым значением\n",
    "\n",
    "m = np.array([1, 2, 3, 4, 5])\n",
    "m1= np.zeros(len(m)*4)\n",
    "m1[::4]=m\n",
    "m1"
   ]
  },
  {
   "cell_type": "code",
   "execution_count": 6,
   "metadata": {},
   "outputs": [
    {
     "data": {
      "text/plain": [
       "array([[ 5,  6,  7,  8,  9],\n",
       "       [ 0,  1,  2,  3,  4],\n",
       "       [10, 11, 12, 13, 14],\n",
       "       [15, 16, 17, 18, 19],\n",
       "       [20, 21, 22, 23, 24]])"
      ]
     },
     "execution_count": 6,
     "metadata": {},
     "output_type": "execute_result"
    }
   ],
   "source": [
    "#Поменять 2 строки в матрице\n",
    "\n",
    "\n",
    "m = np.arange(25).reshape(5,5)\n",
    "m[[0]], m[[1]] = m[[1]], m[[0]]\n",
    "m"
   ]
  },
  {
   "cell_type": "code",
   "execution_count": null,
   "metadata": {},
   "outputs": [],
   "source": [
    "# Рассмотрим набор из 10 троек, описывающих 10 треугольников (с общими вершинами), \n",
    "# найти множество уникальных отрезков, составляющих все треугольники\n",
    "\n",
    "?"
   ]
  },
  {
   "cell_type": "code",
   "execution_count": 9,
   "metadata": {},
   "outputs": [
    {
     "name": "stdout",
     "output_type": "stream",
     "text": [
      "[0 2 1 1 2 0 1]\n",
      "[0 2 1 1 2 0 1]\n"
     ]
    }
   ],
   "source": [
    "#Дан массив C; создать массив A, что np.bincount(A) == C\n",
    "\n",
    "C = np.bincount([1,1,2,3,4,4,6])\n",
    "print(C)\n",
    "A = np.repeat(np.arange(len(C)), C)\n",
    "print(np.bincount(A))"
   ]
  },
  {
   "cell_type": "code",
   "execution_count": 10,
   "metadata": {},
   "outputs": [
    {
     "name": "stdout",
     "output_type": "stream",
     "text": [
      "[ 1.  2.  3.  4.  5.  6.  7.  8.  9. 10. 11. 12. 13. 14. 15. 16. 17. 18.]\n"
     ]
    }
   ],
   "source": [
    "#Посчитать среднее, используя плавающее окно\n",
    "\n",
    "def moving_window(a, n=3):\n",
    "    ret = np.cumsum(a, dtype=float)\n",
    "    ret[n:] = ret[n:] - ret[:-n]\n",
    "    return ret[n - 1:] / n\n",
    "\n",
    "print(moving_window(np.arange(20), 3))"
   ]
  },
  {
   "cell_type": "code",
   "execution_count": 11,
   "metadata": {},
   "outputs": [
    {
     "data": {
      "text/plain": [
       "array([[ 0,  1,  2],\n",
       "       [ 1,  2,  3],\n",
       "       [ 2,  3,  4],\n",
       "       [ 3,  4,  5],\n",
       "       [ 4,  5,  6],\n",
       "       [ 5,  6,  7],\n",
       "       [ 6,  7,  8],\n",
       "       [ 7,  8,  9],\n",
       "       [ 8,  9, 10],\n",
       "       [ 9, 10, 11],\n",
       "       [10, 11, 12],\n",
       "       [11, 12, 13],\n",
       "       [12, 13, 14],\n",
       "       [13, 14, 15],\n",
       "       [14, 15, 16],\n",
       "       [15, 16, 17],\n",
       "       [16, 17, 18],\n",
       "       [17, 18, 19]])"
      ]
     },
     "execution_count": 11,
     "metadata": {},
     "output_type": "execute_result"
    }
   ],
   "source": [
    "# Дан вектор Z, построить матрицу, первая строка которой (Z[0],Z[1],Z[2]),\n",
    "# каждая последующая сдвинута на 1 (последняя (Z[-3],Z[-2],Z[-1]))\n",
    "from numpy.lib import stride_tricks\n",
    "\n",
    "Z = np.arange(20)\n",
    "M = stride_tricks.as_strided(Z, shape=(Z.size-2, 3), strides = (Z.itemsize, Z.itemsize))\n",
    "M"
   ]
  },
  {
   "cell_type": "code",
   "execution_count": 12,
   "metadata": {},
   "outputs": [
    {
     "data": {
      "text/plain": [
       "array([ 0, -1, -2, -3, -4, -5, -6, -7, -8, -9])"
      ]
     },
     "execution_count": 12,
     "metadata": {},
     "output_type": "execute_result"
    }
   ],
   "source": [
    "#Инвертировать булево значение, или поменять знак у числового массива без создания нового\n",
    "M = np.arange(10)\n",
    "np.negative(M, out=M)\n",
    "M"
   ]
  },
  {
   "cell_type": "code",
   "execution_count": 16,
   "metadata": {},
   "outputs": [
    {
     "name": "stdout",
     "output_type": "stream",
     "text": [
      "10\n"
     ]
    }
   ],
   "source": [
    "#Посчитать ранг матрицы\n",
    "M = np.random.randint(0,10,(10,10))\n",
    "print(np.linalg.matrix_rank(M))"
   ]
  },
  {
   "cell_type": "code",
   "execution_count": 19,
   "metadata": {},
   "outputs": [
    {
     "name": "stdout",
     "output_type": "stream",
     "text": [
      "8\n"
     ]
    }
   ],
   "source": [
    "#Найти наиболее частое значение в массиве\n",
    "\n",
    "M = np.random.randint(0,10,10)\n",
    "print(np.bincount(M).argmax())"
   ]
  },
  {
   "cell_type": "code",
   "execution_count": 21,
   "metadata": {},
   "outputs": [
    {
     "name": "stdout",
     "output_type": "stream",
     "text": [
      "[[[[ 0  1  2]\n",
      "   [10 11 12]\n",
      "   [20 21 22]]\n",
      "\n",
      "  [[ 1  2  3]\n",
      "   [11 12 13]\n",
      "   [21 22 23]]\n",
      "\n",
      "  [[ 2  3  4]\n",
      "   [12 13 14]\n",
      "   [22 23 24]]\n",
      "\n",
      "  [[ 3  4  5]\n",
      "   [13 14 15]\n",
      "   [23 24 25]]\n",
      "\n",
      "  [[ 4  5  6]\n",
      "   [14 15 16]\n",
      "   [24 25 26]]\n",
      "\n",
      "  [[ 5  6  7]\n",
      "   [15 16 17]\n",
      "   [25 26 27]]\n",
      "\n",
      "  [[ 6  7  8]\n",
      "   [16 17 18]\n",
      "   [26 27 28]]\n",
      "\n",
      "  [[ 7  8  9]\n",
      "   [17 18 19]\n",
      "   [27 28 29]]]\n",
      "\n",
      "\n",
      " [[[10 11 12]\n",
      "   [20 21 22]\n",
      "   [30 31 32]]\n",
      "\n",
      "  [[11 12 13]\n",
      "   [21 22 23]\n",
      "   [31 32 33]]\n",
      "\n",
      "  [[12 13 14]\n",
      "   [22 23 24]\n",
      "   [32 33 34]]\n",
      "\n",
      "  [[13 14 15]\n",
      "   [23 24 25]\n",
      "   [33 34 35]]\n",
      "\n",
      "  [[14 15 16]\n",
      "   [24 25 26]\n",
      "   [34 35 36]]\n",
      "\n",
      "  [[15 16 17]\n",
      "   [25 26 27]\n",
      "   [35 36 37]]\n",
      "\n",
      "  [[16 17 18]\n",
      "   [26 27 28]\n",
      "   [36 37 38]]\n",
      "\n",
      "  [[17 18 19]\n",
      "   [27 28 29]\n",
      "   [37 38 39]]]\n",
      "\n",
      "\n",
      " [[[20 21 22]\n",
      "   [30 31 32]\n",
      "   [40 41 42]]\n",
      "\n",
      "  [[21 22 23]\n",
      "   [31 32 33]\n",
      "   [41 42 43]]\n",
      "\n",
      "  [[22 23 24]\n",
      "   [32 33 34]\n",
      "   [42 43 44]]\n",
      "\n",
      "  [[23 24 25]\n",
      "   [33 34 35]\n",
      "   [43 44 45]]\n",
      "\n",
      "  [[24 25 26]\n",
      "   [34 35 36]\n",
      "   [44 45 46]]\n",
      "\n",
      "  [[25 26 27]\n",
      "   [35 36 37]\n",
      "   [45 46 47]]\n",
      "\n",
      "  [[26 27 28]\n",
      "   [36 37 38]\n",
      "   [46 47 48]]\n",
      "\n",
      "  [[27 28 29]\n",
      "   [37 38 39]\n",
      "   [47 48 49]]]\n",
      "\n",
      "\n",
      " [[[30 31 32]\n",
      "   [40 41 42]\n",
      "   [50 51 52]]\n",
      "\n",
      "  [[31 32 33]\n",
      "   [41 42 43]\n",
      "   [51 52 53]]\n",
      "\n",
      "  [[32 33 34]\n",
      "   [42 43 44]\n",
      "   [52 53 54]]\n",
      "\n",
      "  [[33 34 35]\n",
      "   [43 44 45]\n",
      "   [53 54 55]]\n",
      "\n",
      "  [[34 35 36]\n",
      "   [44 45 46]\n",
      "   [54 55 56]]\n",
      "\n",
      "  [[35 36 37]\n",
      "   [45 46 47]\n",
      "   [55 56 57]]\n",
      "\n",
      "  [[36 37 38]\n",
      "   [46 47 48]\n",
      "   [56 57 58]]\n",
      "\n",
      "  [[37 38 39]\n",
      "   [47 48 49]\n",
      "   [57 58 59]]]\n",
      "\n",
      "\n",
      " [[[40 41 42]\n",
      "   [50 51 52]\n",
      "   [60 61 62]]\n",
      "\n",
      "  [[41 42 43]\n",
      "   [51 52 53]\n",
      "   [61 62 63]]\n",
      "\n",
      "  [[42 43 44]\n",
      "   [52 53 54]\n",
      "   [62 63 64]]\n",
      "\n",
      "  [[43 44 45]\n",
      "   [53 54 55]\n",
      "   [63 64 65]]\n",
      "\n",
      "  [[44 45 46]\n",
      "   [54 55 56]\n",
      "   [64 65 66]]\n",
      "\n",
      "  [[45 46 47]\n",
      "   [55 56 57]\n",
      "   [65 66 67]]\n",
      "\n",
      "  [[46 47 48]\n",
      "   [56 57 58]\n",
      "   [66 67 68]]\n",
      "\n",
      "  [[47 48 49]\n",
      "   [57 58 59]\n",
      "   [67 68 69]]]\n",
      "\n",
      "\n",
      " [[[50 51 52]\n",
      "   [60 61 62]\n",
      "   [70 71 72]]\n",
      "\n",
      "  [[51 52 53]\n",
      "   [61 62 63]\n",
      "   [71 72 73]]\n",
      "\n",
      "  [[52 53 54]\n",
      "   [62 63 64]\n",
      "   [72 73 74]]\n",
      "\n",
      "  [[53 54 55]\n",
      "   [63 64 65]\n",
      "   [73 74 75]]\n",
      "\n",
      "  [[54 55 56]\n",
      "   [64 65 66]\n",
      "   [74 75 76]]\n",
      "\n",
      "  [[55 56 57]\n",
      "   [65 66 67]\n",
      "   [75 76 77]]\n",
      "\n",
      "  [[56 57 58]\n",
      "   [66 67 68]\n",
      "   [76 77 78]]\n",
      "\n",
      "  [[57 58 59]\n",
      "   [67 68 69]\n",
      "   [77 78 79]]]\n",
      "\n",
      "\n",
      " [[[60 61 62]\n",
      "   [70 71 72]\n",
      "   [80 81 82]]\n",
      "\n",
      "  [[61 62 63]\n",
      "   [71 72 73]\n",
      "   [81 82 83]]\n",
      "\n",
      "  [[62 63 64]\n",
      "   [72 73 74]\n",
      "   [82 83 84]]\n",
      "\n",
      "  [[63 64 65]\n",
      "   [73 74 75]\n",
      "   [83 84 85]]\n",
      "\n",
      "  [[64 65 66]\n",
      "   [74 75 76]\n",
      "   [84 85 86]]\n",
      "\n",
      "  [[65 66 67]\n",
      "   [75 76 77]\n",
      "   [85 86 87]]\n",
      "\n",
      "  [[66 67 68]\n",
      "   [76 77 78]\n",
      "   [86 87 88]]\n",
      "\n",
      "  [[67 68 69]\n",
      "   [77 78 79]\n",
      "   [87 88 89]]]\n",
      "\n",
      "\n",
      " [[[70 71 72]\n",
      "   [80 81 82]\n",
      "   [90 91 92]]\n",
      "\n",
      "  [[71 72 73]\n",
      "   [81 82 83]\n",
      "   [91 92 93]]\n",
      "\n",
      "  [[72 73 74]\n",
      "   [82 83 84]\n",
      "   [92 93 94]]\n",
      "\n",
      "  [[73 74 75]\n",
      "   [83 84 85]\n",
      "   [93 94 95]]\n",
      "\n",
      "  [[74 75 76]\n",
      "   [84 85 86]\n",
      "   [94 95 96]]\n",
      "\n",
      "  [[75 76 77]\n",
      "   [85 86 87]\n",
      "   [95 96 97]]\n",
      "\n",
      "  [[76 77 78]\n",
      "   [86 87 88]\n",
      "   [96 97 98]]\n",
      "\n",
      "  [[77 78 79]\n",
      "   [87 88 89]\n",
      "   [97 98 99]]]]\n"
     ]
    }
   ],
   "source": [
    "#Извлечь все смежные 3x3 блоки из 10x10 матрицы\n",
    "\n",
    "Z = np.arange(100).reshape(10,10)\n",
    "n = 3\n",
    "i = 1 + (Z.shape[0] - n)\n",
    "j = 1 + (Z.shape[1] - n)\n",
    "C = stride_tricks.as_strided(Z, shape=(i, j, n, n), strides=Z.strides + Z.strides)\n",
    "print(C)"
   ]
  },
  {
   "cell_type": "code",
   "execution_count": 38,
   "metadata": {},
   "outputs": [
    {
     "data": {
      "text/plain": [
       "array([[15.],\n",
       "       [15.],\n",
       "       [15.]])"
      ]
     },
     "execution_count": 38,
     "metadata": {},
     "output_type": "execute_result"
    }
   ],
   "source": [
    "# Рассмотрим множество матриц (n,n) и множество из p векторов (n,1). \n",
    "# Посчитать сумму p произведений матриц (результат имеет размерность (n,1))\n",
    "p,n = 5, 3\n",
    "M = np.ones((p,n,n))\n",
    "V = np.ones((p,n,1))\n",
    "S = np.tensordot(M, V, axes=[[0, 2], [0, 1]])\n",
    "S"
   ]
  },
  {
   "cell_type": "code",
   "execution_count": 24,
   "metadata": {},
   "outputs": [
    {
     "data": {
      "text/plain": [
       "array([[16., 16., 16., 16.],\n",
       "       [16., 16., 16., 16.],\n",
       "       [16., 16., 16., 16.],\n",
       "       [16., 16., 16., 16.]])"
      ]
     },
     "execution_count": 24,
     "metadata": {},
     "output_type": "execute_result"
    }
   ],
   "source": [
    "#Дан массив 16x16, посчитать сумму по блокам 4x4\n",
    "\n",
    "Z = np.ones((16,16))\n",
    "k = 4\n",
    "S = np.add.reduceat(np.add.reduceat(Z, np.arange(0, Z.shape[0], k), axis=0),\n",
    "                                       np.arange(0, Z.shape[1], k), axis=1)\n",
    "S"
   ]
  },
  {
   "cell_type": "code",
   "execution_count": 25,
   "metadata": {},
   "outputs": [
    {
     "name": "stdout",
     "output_type": "stream",
     "text": [
      "[9992 9996 9993 9998 9991 9994 9995 9997 9999 9990]\n"
     ]
    }
   ],
   "source": [
    "#Найти n наибольших значений в массиве\n",
    "\n",
    "Z = np.arange(10000)\n",
    "print (Z[np.argpartition(-Z,10)[:10]])"
   ]
  },
  {
   "cell_type": "code",
   "execution_count": 40,
   "metadata": {
    "scrolled": true
   },
   "outputs": [
    {
     "name": "stdout",
     "output_type": "stream",
     "text": [
      "[[2 2 1]\n",
      " [0 4 1]\n",
      " [3 1 0]]\n",
      "\n",
      "[[2 0]\n",
      " [0 0]]\n",
      "[[[[ True False]\n",
      "   [False False]]\n",
      "\n",
      "  [[ True False]\n",
      "   [False False]]\n",
      "\n",
      "  [[False False]\n",
      "   [False False]]]\n",
      "\n",
      "\n",
      " [[[False  True]\n",
      "   [ True  True]]\n",
      "\n",
      "  [[False False]\n",
      "   [False False]]\n",
      "\n",
      "  [[False False]\n",
      "   [False False]]]\n",
      "\n",
      "\n",
      " [[[False False]\n",
      "   [False False]]\n",
      "\n",
      "  [[False False]\n",
      "   [False False]]\n",
      "\n",
      "  [[False  True]\n",
      "   [ True  True]]]]\n",
      "[0 1 2]\n"
     ]
    }
   ],
   "source": [
    "# Даны 2 массива A (8x3) и B (2x2). \n",
    "# Найти строки в A, которые содержат элементы из каждой строки в B,\n",
    "# независимо от порядка элементов в B\n",
    "\n",
    "\n",
    "A = np.random.randint(0,5,(3,3))\n",
    "print(A)\n",
    "print()\n",
    "B = np.random.randint(0,5,(2,2))\n",
    "print(B)\n",
    "\n",
    "C = (A[..., np.newaxis, np.newaxis] == B)\n",
    "print(C)\n",
    "rows = (C.sum(axis=(1,2,3)) >= B.shape[1]).nonzero()[0]\n",
    "print(rows)"
   ]
  },
  {
   "cell_type": "code",
   "execution_count": 39,
   "metadata": {},
   "outputs": [
    {
     "name": "stdout",
     "output_type": "stream",
     "text": [
      "[[1 1 1]\n",
      " [1 1 0]\n",
      " [0 0 0]\n",
      " [1 1 1]\n",
      " [1 1 1]]\n",
      "Неравные значения:\n",
      "[[1 1 0]]\n"
     ]
    }
   ],
   "source": [
    "#Дана 10x3 матрица, найти строки из неравных значений (например [2,2,3])\n",
    "\n",
    "Z = np.random.randint(0,2,(5,3))\n",
    "E = np.logical_and.reduce(Z[:,1:] == Z[:,:-1], axis=1)\n",
    "U = Z[~E]\n",
    "print(Z)\n",
    "print(\"Неравные значения:\")\n",
    "print(U)"
   ]
  },
  {
   "cell_type": "code",
   "execution_count": 42,
   "metadata": {},
   "outputs": [
    {
     "name": "stdout",
     "output_type": "stream",
     "text": [
      "[0 0 0 0 0 0 0 0 0 0 0 0 0 0 0 1 0 0 0 0 0 0 1 0 0 0 0 0 0 1 0 0 0 0 0 0 1\n",
      " 1 1 1 0 0 0 1 0 0 0 0 0 0 1 0 0 0 0 0 0 1 0 0 0 0 0 0 1 0 0 0 0 0 0 0]\n"
     ]
    }
   ],
   "source": [
    "#Преобразовать вектор чисел в матрицу бинарных представлений\n",
    "\n",
    "I = np.array([0, 1, 2, 4, 15, 16, 32, 64, 128], dtype=np.uint8)\n",
    "print(np.unpackbits(I[:, np.newaxis], axis=1))"
   ]
  },
  {
   "cell_type": "code",
   "execution_count": null,
   "metadata": {},
   "outputs": [],
   "source": [
    "#Даны векторы A и B, написать einsum эквиваленты функций inner, outer, sum и mul\n",
    "\n",
    "np.einsum('i->', A)       # np.sum(A)\n",
    "np.einsum('i,i->i', A, B) # A * B\n",
    "np.einsum('i,i', A, B)    # np.inner(A, B)\n",
    "np.einsum('i,j', A, B)    # np.outer(A, B)"
   ]
  }
 ],
 "metadata": {
  "kernelspec": {
   "display_name": "Python 3",
   "language": "python",
   "name": "python3"
  },
  "language_info": {
   "codemirror_mode": {
    "name": "ipython",
    "version": 3
   },
   "file_extension": ".py",
   "mimetype": "text/x-python",
   "name": "python",
   "nbconvert_exporter": "python",
   "pygments_lexer": "ipython3",
   "version": "3.7.6"
  }
 },
 "nbformat": 4,
 "nbformat_minor": 4
}
